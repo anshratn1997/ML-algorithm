{
 "cells": [
  {
   "cell_type": "code",
   "execution_count": 6,
   "metadata": {},
   "outputs": [
    {
     "name": "stdout",
     "output_type": "stream",
     "text": [
      "10\n",
      "8\n"
     ]
    }
   ],
   "source": [
    "\n",
    "fibo=[0,1,1]\n",
    "even=[0]\n",
    "def gene():\n",
    "  for i in range(2,10):\n",
    "    fibo.append(fibo[i-1]+fibo[i-2])\n",
    "    if(fibo[i] % 2 ==0):\n",
    "      even.append(fibo[i])\n",
    "gene()\n",
    "n=int(input())\n",
    "sum=0\n",
    "for i in range(len(even)):\n",
    "  if(even[i]<=n):\n",
    "    sum+=even[i]\n",
    "  else:\n",
    "    break\n",
    "print(sum)"
   ]
  },
  {
   "cell_type": "code",
   "execution_count": 70,
   "metadata": {},
   "outputs": [
    {
     "name": "stdout",
     "output_type": "stream",
     "text": [
      "int32\n",
      "(2, 4)\n",
      "[[1 1 0 1]\n",
      " [1 2 2 2]]\n",
      "2\n",
      "[[1 0]\n",
      " [2 2]]\n"
     ]
    }
   ],
   "source": [
    "import numpy as np\n",
    "import matplotlib.pyplot as mp\n",
    "# a=np.array([1,2,5,9])\n",
    "a=np.array([ [1,1,0,1],[1,2,2,2] ])\n",
    "print(a.dtype)\n",
    "#print(a.mean())\n",
    "#a=((a-a.mean()))**2\n",
    "#print(a.dtype)\n",
    "print(a.shape)\n",
    "#print(a[1][1])\n",
    "type(a)\n",
    "print(a)\n",
    "print(np.ndim(a))\n",
    "#mp.plot(a)\n",
    "#mp.show()\n",
    "print(a[:2,1:3])"
   ]
  },
  {
   "cell_type": "code",
   "execution_count": null,
   "metadata": {
    "collapsed": true
   },
   "outputs": [],
   "source": []
  }
 ],
 "metadata": {
  "kernelspec": {
   "display_name": "Python 3",
   "language": "python",
   "name": "python3"
  },
  "language_info": {
   "codemirror_mode": {
    "name": "ipython",
    "version": 3
   },
   "file_extension": ".py",
   "mimetype": "text/x-python",
   "name": "python",
   "nbconvert_exporter": "python",
   "pygments_lexer": "ipython3",
   "version": "3.6.3"
  }
 },
 "nbformat": 4,
 "nbformat_minor": 2
}
