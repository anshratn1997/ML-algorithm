{
 "cells": [
  {
   "cell_type": "code",
   "execution_count": 2,
   "metadata": {
    "collapsed": true
   },
   "outputs": [],
   "source": [
    "import numpy as np"
   ]
  },
  {
   "cell_type": "code",
   "execution_count": 24,
   "metadata": {
    "collapsed": true
   },
   "outputs": [],
   "source": [
    "def step_g(points,lr,m,c):\n",
    "    M=len(points)\n",
    "    slope_m=0\n",
    "    slope_c=0\n",
    "    for i in range(M):\n",
    "        x=points[i,0]\n",
    "        y=points[i,1]\n",
    "        slope_m+=(-2/M)*(y-m*x-c)*x\n",
    "        slope_c+=(-2/M)*(y-m*x-c)\n",
    "    new_m=m-lr*slope_m\n",
    "    new_c=c-lr*slope_c\n",
    "    return new_m,new_c"
   ]
  },
  {
   "cell_type": "code",
   "execution_count": 41,
   "metadata": {},
   "outputs": [],
   "source": [
    "def gd(points,lr,itr):\n",
    "    m=0\n",
    "    c=0\n",
    "    for i in range(itr):\n",
    "        m,c=step_g(points,lr,m,c)\n",
    "        print(t_cost(data,m,c))\n",
    "#         print(m,c)\n",
    "    return m,c"
   ]
  },
  {
   "cell_type": "code",
   "execution_count": 45,
   "metadata": {
    "collapsed": true
   },
   "outputs": [],
   "source": [
    "def t_cost(points,m,c):\n",
    "    cost=0\n",
    "    M=len(points)\n",
    "    for i in range(M):\n",
    "        x=points[i,0]\n",
    "        y=points[i,1]\n",
    "        cost+=(1/M)*((y-m*x-c)**2)\n",
    "    return cost\n",
    "    "
   ]
  },
  {
   "cell_type": "code",
   "execution_count": 48,
   "metadata": {
    "collapsed": true
   },
   "outputs": [],
   "source": [
    "def run():\n",
    "    data=np.loadtxt('C:/Users/ansh41/Desktop/mypython/codingNinja/datasets/data.csv',delimiter=\",\")\n",
    "    learning_rate=0.0001\n",
    "    itr=100\n",
    "    m,c=gd(data,learning_rate,itr)\n",
    "    print(m,c)\n"
   ]
  },
  {
   "cell_type": "code",
   "execution_count": 49,
   "metadata": {},
   "outputs": [
    {
     "name": "stdout",
     "output_type": "stream",
     "text": [
      "1496.75343493\n",
      "466.979059674\n",
      "202.746432884\n",
      "134.946238768\n",
      "117.549175095\n",
      "113.085187308\n",
      "111.939732527\n",
      "111.645789126\n",
      "111.57033734\n",
      "111.55094891\n",
      "111.545945929\n",
      "111.54463415\n",
      "111.544269507\n",
      "111.544147893\n",
      "111.544088638\n",
      "111.544045385\n",
      "111.544006239\n",
      "111.543968147\n",
      "111.543930326\n",
      "111.543892575\n",
      "111.543854842\n",
      "111.543817115\n",
      "111.54377939\n",
      "111.543741666\n",
      "111.543703942\n",
      "111.543666219\n",
      "111.543628497\n",
      "111.543590776\n",
      "111.543553055\n",
      "111.543515335\n",
      "111.543477616\n",
      "111.543439897\n",
      "111.54340218\n",
      "111.543364463\n",
      "111.543326746\n",
      "111.543289031\n",
      "111.543251316\n",
      "111.543213601\n",
      "111.543175888\n",
      "111.543138175\n",
      "111.543100463\n",
      "111.543062752\n",
      "111.543025041\n",
      "111.542987331\n",
      "111.542949622\n",
      "111.542911913\n",
      "111.542874205\n",
      "111.542836498\n",
      "111.542798792\n",
      "111.542761086\n",
      "111.542723381\n",
      "111.542685677\n",
      "111.542647974\n",
      "111.542610271\n",
      "111.542572569\n",
      "111.542534867\n",
      "111.542497167\n",
      "111.542459467\n",
      "111.542421767\n",
      "111.542384069\n",
      "111.542346371\n",
      "111.542308674\n",
      "111.542270977\n",
      "111.542233282\n",
      "111.542195587\n",
      "111.542157892\n",
      "111.542120199\n",
      "111.542082506\n",
      "111.542044814\n",
      "111.542007123\n",
      "111.541969432\n",
      "111.541931742\n",
      "111.541894053\n",
      "111.541856364\n",
      "111.541818676\n",
      "111.541780989\n",
      "111.541743303\n",
      "111.541705617\n",
      "111.541667932\n",
      "111.541630248\n",
      "111.541592564\n",
      "111.541554881\n",
      "111.541517199\n",
      "111.541479517\n",
      "111.541441837\n",
      "111.541404157\n",
      "111.541366477\n",
      "111.541328799\n",
      "111.541291121\n",
      "111.541253444\n",
      "111.541215767\n",
      "111.541178092\n",
      "111.541140417\n",
      "111.541102742\n",
      "111.541065069\n",
      "111.541027396\n",
      "111.540989724\n",
      "111.540952052\n",
      "111.540914381\n",
      "111.540876711\n",
      "1.47880019569 0.0352071500334\n"
     ]
    }
   ],
   "source": [
    "run()"
   ]
  },
  {
   "cell_type": "code",
   "execution_count": null,
   "metadata": {},
   "outputs": [],
   "source": []
  }
 ],
 "metadata": {
  "kernelspec": {
   "display_name": "Python 3",
   "language": "python",
   "name": "python3"
  },
  "language_info": {
   "codemirror_mode": {
    "name": "ipython",
    "version": 3
   },
   "file_extension": ".py",
   "mimetype": "text/x-python",
   "name": "python",
   "nbconvert_exporter": "python",
   "pygments_lexer": "ipython3",
   "version": "3.6.3"
  }
 },
 "nbformat": 4,
 "nbformat_minor": 2
}
