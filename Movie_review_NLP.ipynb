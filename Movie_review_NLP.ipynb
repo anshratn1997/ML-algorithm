{
 "cells": [
  {
   "cell_type": "code",
   "execution_count": 1,
   "metadata": {
    "collapsed": true
   },
   "outputs": [],
   "source": [
    "from nltk.corpus import movie_reviews"
   ]
  },
  {
   "cell_type": "code",
   "execution_count": 2,
   "metadata": {},
   "outputs": [
    {
     "data": {
      "text/plain": [
       "['neg', 'pos']"
      ]
     },
     "execution_count": 2,
     "metadata": {},
     "output_type": "execute_result"
    }
   ],
   "source": [
    "movie_reviews.categories()"
   ]
  },
  {
   "cell_type": "code",
   "execution_count": 3,
   "metadata": {
    "collapsed": true
   },
   "outputs": [],
   "source": [
    "# movie_reviews.fileids('neg')"
   ]
  },
  {
   "cell_type": "code",
   "execution_count": 4,
   "metadata": {},
   "outputs": [
    {
     "data": {
      "text/plain": [
       "['capsule', ':', 'in', '2176', 'on', 'the', 'planet', ...]"
      ]
     },
     "execution_count": 4,
     "metadata": {},
     "output_type": "execute_result"
    }
   ],
   "source": [
    "movie_reviews.words(movie_reviews.fileids('neg')[5])"
   ]
  },
  {
   "cell_type": "code",
   "execution_count": 5,
   "metadata": {
    "collapsed": true
   },
   "outputs": [],
   "source": [
    "documents=[]\n",
    "for category in movie_reviews.categories():\n",
    "    for file in movie_reviews.fileids(category):\n",
    "        documents.append((movie_reviews.words(file),category))"
   ]
  },
  {
   "cell_type": "code",
   "execution_count": 6,
   "metadata": {},
   "outputs": [
    {
     "data": {
      "text/plain": [
       "[(['plot', ':', 'two', 'teen', 'couples', 'go', 'to', ...], 'neg'),\n",
       " (['the', 'happy', 'bastard', \"'\", 's', 'quick', 'movie', ...], 'neg'),\n",
       " (['it', 'is', 'movies', 'like', 'these', 'that', 'make', ...], 'neg'),\n",
       " (['\"', 'quest', 'for', 'camelot', '\"', 'is', 'warner', ...], 'neg'),\n",
       " (['synopsis', ':', 'a', 'mentally', 'unstable', 'man', ...], 'neg')]"
      ]
     },
     "execution_count": 6,
     "metadata": {},
     "output_type": "execute_result"
    }
   ],
   "source": [
    "documents[0:5]"
   ]
  },
  {
   "cell_type": "code",
   "execution_count": 7,
   "metadata": {
    "collapsed": true
   },
   "outputs": [],
   "source": [
    "import random\n",
    "random.shuffle(documents)"
   ]
  },
  {
   "cell_type": "code",
   "execution_count": 8,
   "metadata": {},
   "outputs": [
    {
     "data": {
      "text/plain": [
       "[(['if', 'i', 'were', 'one', 'of', 'those', 'arrogant', ...], 'neg'),\n",
       " (['in', 'french', ',', 'the', 'phrase', '\"', 'film', ...], 'neg'),\n",
       " (['what', 'are', 'the', 'warning', 'signs', 'of', 'a', ...], 'neg'),\n",
       " (['\"', 'be', 'gentle', ',', '\"', 'urges', 'natasha', ...], 'neg'),\n",
       " (['every', 'once', 'in', 'a', 'while', ',', 'when', ...], 'pos')]"
      ]
     },
     "execution_count": 8,
     "metadata": {},
     "output_type": "execute_result"
    }
   ],
   "source": [
    "documents[0:5]"
   ]
  },
  {
   "cell_type": "code",
   "execution_count": 9,
   "metadata": {
    "collapsed": true
   },
   "outputs": [],
   "source": [
    "from nltk.stem import WordNetLemmatizer\n",
    "from nltk.corpus import stopwords\n",
    "import string\n",
    "from nltk import pos_tag\n",
    "from nltk.corpus import wordnet\n",
    "import nltk"
   ]
  },
  {
   "cell_type": "code",
   "execution_count": 10,
   "metadata": {},
   "outputs": [
    {
     "data": {
      "text/plain": [
       "211"
      ]
     },
     "execution_count": 10,
     "metadata": {},
     "output_type": "execute_result"
    }
   ],
   "source": [
    "stops=set(stopwords.words('english'))\n",
    "punct=list(string.punctuation)\n",
    "stops.update(punct)\n",
    "len(stops)"
   ]
  },
  {
   "cell_type": "code",
   "execution_count": 11,
   "metadata": {
    "collapsed": true
   },
   "outputs": [],
   "source": [
    "def get_simple_pos(tag):\n",
    "    if tag.startswith('J'):\n",
    "        return wordnet.ADJ\n",
    "    elif tag.startswith('V'):\n",
    "        return wordnet.VERB\n",
    "    elif tag.startswith('N'):\n",
    "        return wordnet.NOUN\n",
    "    elif tag.startswith('R'):\n",
    "        return wordnet.ADV\n",
    "    else:\n",
    "        return wordnet.NOUN"
   ]
  },
  {
   "cell_type": "code",
   "execution_count": 12,
   "metadata": {
    "collapsed": true
   },
   "outputs": [],
   "source": [
    "lemmatizer=WordNetLemmatizer()"
   ]
  },
  {
   "cell_type": "code",
   "execution_count": 13,
   "metadata": {},
   "outputs": [
    {
     "name": "stdout",
     "output_type": "stream",
     "text": [
      "[('b', 'NN'), ('e', 'NN'), ('t', 'NN'), ('t', 'NN'), ('e', 'NN'), ('r', 'NN')]\n",
      "[('better', 'RBR')]\n"
     ]
    },
    {
     "data": {
      "text/plain": [
       "'well'"
      ]
     },
     "execution_count": 13,
     "metadata": {},
     "output_type": "execute_result"
    }
   ],
   "source": [
    "w='better'\n",
    "print(pos_tag(w))\n",
    "print(pos_tag([w]))\n",
    "lemmatizer.lemmatize(w,get_simple_pos(pos_tag([w])[0][1]))"
   ]
  },
  {
   "cell_type": "code",
   "execution_count": 14,
   "metadata": {
    "collapsed": true
   },
   "outputs": [],
   "source": [
    "def clean_review(words):\n",
    "    output_words=[]\n",
    "    for word in words:\n",
    "        if word.lower() not in stops:\n",
    "            pos=pos_tag([word])\n",
    "            clean_word=lemmatizer.lemmatize(word,get_simple_pos(pos[0][1]))\n",
    "            output_words.append(clean_word)\n",
    "    return output_words"
   ]
  },
  {
   "cell_type": "code",
   "execution_count": 15,
   "metadata": {
    "collapsed": true
   },
   "outputs": [],
   "source": [
    "documents=[(clean_review(document),category) for document,category in documents]"
   ]
  },
  {
   "cell_type": "code",
   "execution_count": 16,
   "metadata": {
    "collapsed": true
   },
   "outputs": [],
   "source": [
    "training_doc=documents[:1500]\n",
    "testing_doc=documents[1500:]"
   ]
  },
  {
   "cell_type": "code",
   "execution_count": 17,
   "metadata": {
    "collapsed": true
   },
   "outputs": [],
   "source": [
    "all_words=[]\n",
    "for document in training_doc:\n",
    "    all_words+=document[0]"
   ]
  },
  {
   "cell_type": "code",
   "execution_count": 18,
   "metadata": {
    "collapsed": true
   },
   "outputs": [],
   "source": [
    "dictionary= nltk.FreqDist(all_words)"
   ]
  },
  {
   "cell_type": "code",
   "execution_count": 19,
   "metadata": {
    "collapsed": true
   },
   "outputs": [],
   "source": [
    "common=dictionary.most_common(3000)\n",
    "features=[i[0] for i in common]"
   ]
  },
  {
   "cell_type": "code",
   "execution_count": 1,
   "metadata": {
    "collapsed": true
   },
   "outputs": [],
   "source": [
    "def get_feature_dict(words):\n",
    "    current_features={}\n",
    "    word_set=set(words)\n",
    "    for w in features:\n",
    "        current_features[w]=w in word_set\n",
    "    return current_features"
   ]
  },
  {
   "cell_type": "code",
   "execution_count": 21,
   "metadata": {
    "collapsed": true
   },
   "outputs": [],
   "source": [
    "training_data=[(get_feature_dict(doc),category) for doc,category in training_doc]"
   ]
  },
  {
   "cell_type": "code",
   "execution_count": 22,
   "metadata": {
    "collapsed": true
   },
   "outputs": [],
   "source": [
    "testing_data=[(get_feature_dict(doc),category) for doc,category in testing_doc]"
   ]
  },
  {
   "cell_type": "code",
   "execution_count": 23,
   "metadata": {
    "collapsed": true
   },
   "outputs": [],
   "source": [
    "from nltk import NaiveBayesClassifier"
   ]
  },
  {
   "cell_type": "code",
   "execution_count": 24,
   "metadata": {
    "collapsed": true
   },
   "outputs": [],
   "source": [
    "clf=NaiveBayesClassifier.train(training_data)"
   ]
  },
  {
   "cell_type": "code",
   "execution_count": 25,
   "metadata": {},
   "outputs": [
    {
     "data": {
      "text/plain": [
       "0.78"
      ]
     },
     "execution_count": 25,
     "metadata": {},
     "output_type": "execute_result"
    }
   ],
   "source": [
    "nltk.classify.accuracy(clf,testing_data)"
   ]
  },
  {
   "cell_type": "code",
   "execution_count": 26,
   "metadata": {},
   "outputs": [
    {
     "name": "stdout",
     "output_type": "stream",
     "text": [
      "Most Informative Features\n",
      "               stupidity = True              neg : pos    =     15.9 : 1.0\n",
      "                  seagal = True              neg : pos    =     12.0 : 1.0\n",
      "              schumacher = True              neg : pos    =      9.4 : 1.0\n",
      "                    lame = True              neg : pos    =      8.9 : 1.0\n",
      "                  alicia = True              neg : pos    =      8.8 : 1.0\n",
      "             outstanding = True              pos : neg    =      8.3 : 1.0\n",
      "                   jolie = True              neg : pos    =      8.1 : 1.0\n",
      "               ludicrous = True              neg : pos    =      7.7 : 1.0\n",
      "               painfully = True              neg : pos    =      7.4 : 1.0\n",
      "             wonderfully = True              pos : neg    =      7.0 : 1.0\n",
      "              whatsoever = True              neg : pos    =      6.8 : 1.0\n",
      "                   damon = True              pos : neg    =      6.6 : 1.0\n",
      "                   crowe = True              pos : neg    =      6.5 : 1.0\n",
      "                   anger = True              pos : neg    =      6.4 : 1.0\n",
      "                   cindy = True              neg : pos    =      6.2 : 1.0\n"
     ]
    }
   ],
   "source": [
    "clf.show_most_informative_features(15)"
   ]
  },
  {
   "cell_type": "code",
   "execution_count": 30,
   "metadata": {
    "collapsed": true
   },
   "outputs": [],
   "source": [
    "from sklearn.svm import SVC\n",
    "from nltk.classify.scikitlearn import SklearnClassifier\n",
    "from sklearn.ensemble import RandomForestClassifier"
   ]
  },
  {
   "cell_type": "code",
   "execution_count": 32,
   "metadata": {
    "collapsed": true
   },
   "outputs": [],
   "source": [
    "svc=SVC()\n",
    "classifier_sklearn=SklearnClassifier(svc)"
   ]
  },
  {
   "cell_type": "code",
   "execution_count": 33,
   "metadata": {
    "collapsed": true
   },
   "outputs": [],
   "source": [
    "clf_svc=classifier_sklearn.train(training_data)"
   ]
  },
  {
   "cell_type": "code",
   "execution_count": 34,
   "metadata": {},
   "outputs": [
    {
     "data": {
      "text/plain": [
       "0.748"
      ]
     },
     "execution_count": 34,
     "metadata": {},
     "output_type": "execute_result"
    }
   ],
   "source": [
    "nltk.classify.accuracy(clf_svc,testing_data)"
   ]
  },
  {
   "cell_type": "code",
   "execution_count": 36,
   "metadata": {
    "collapsed": true
   },
   "outputs": [],
   "source": [
    "rfc=RandomForestClassifier()\n",
    "classifier_sklearn1=SklearnClassifier(rfc)"
   ]
  },
  {
   "cell_type": "code",
   "execution_count": 39,
   "metadata": {
    "collapsed": true
   },
   "outputs": [],
   "source": [
    "clf_rfc=classifier_sklearn1.train(training_data)"
   ]
  },
  {
   "cell_type": "code",
   "execution_count": 42,
   "metadata": {},
   "outputs": [
    {
     "data": {
      "text/plain": [
       "0.662"
      ]
     },
     "execution_count": 42,
     "metadata": {},
     "output_type": "execute_result"
    }
   ],
   "source": [
    "nltk.classify.accuracy(clf_rfc,testing_data)"
   ]
  },
  {
   "cell_type": "code",
   "execution_count": 43,
   "metadata": {
    "collapsed": true
   },
   "outputs": [],
   "source": [
    "from sklearn.feature_extraction.text import CountVectorizer"
   ]
  },
  {
   "cell_type": "code",
   "execution_count": 45,
   "metadata": {},
   "outputs": [
    {
     "data": {
      "text/plain": [
       "matrix([[1, 1, 1],\n",
       "        [0, 1, 1]], dtype=int64)"
      ]
     },
     "execution_count": 45,
     "metadata": {},
     "output_type": "execute_result"
    }
   ],
   "source": [
    "training_set={\"the sky is blue\",\"the weather is awesome\"}\n",
    "cv=CountVectorizer(max_features=3)\n",
    "a=cv.fit_transform(training_set)\n",
    "a.todense()\n"
   ]
  },
  {
   "cell_type": "code",
   "execution_count": 52,
   "metadata": {},
   "outputs": [
    {
     "data": {
      "text/plain": [
       "'the weather is awesome the sky is blue'"
      ]
     },
     "execution_count": 52,
     "metadata": {},
     "output_type": "execute_result"
    }
   ],
   "source": [
    "\" \".join(training_set)"
   ]
  },
  {
   "cell_type": "code",
   "execution_count": 57,
   "metadata": {},
   "outputs": [
    {
     "data": {
      "text/plain": [
       "['awesome', 'is', 'the']"
      ]
     },
     "execution_count": 57,
     "metadata": {},
     "output_type": "execute_result"
    }
   ],
   "source": [
    "cv.get_feature_names()"
   ]
  },
  {
   "cell_type": "code",
   "execution_count": 58,
   "metadata": {
    "collapsed": true
   },
   "outputs": [],
   "source": [
    "categories=[category for document,category in documents]"
   ]
  },
  {
   "cell_type": "code",
   "execution_count": 59,
   "metadata": {
    "collapsed": true
   },
   "outputs": [],
   "source": [
    "text_documents=[\" \".join(document) for document,category in documents]"
   ]
  },
  {
   "cell_type": "code",
   "execution_count": 61,
   "metadata": {
    "collapsed": true
   },
   "outputs": [],
   "source": [
    "from sklearn.model_selection  import train_test_split"
   ]
  },
  {
   "cell_type": "code",
   "execution_count": 62,
   "metadata": {
    "collapsed": true
   },
   "outputs": [],
   "source": [
    "x_train,x_test,y_train,y_test=train_test_split(text_documents,categories)"
   ]
  },
  {
   "cell_type": "code",
   "execution_count": 83,
   "metadata": {
    "collapsed": true
   },
   "outputs": [],
   "source": [
    "cv=CountVectorizer(max_features=2000,ngram_range=(1,2))"
   ]
  },
  {
   "cell_type": "code",
   "execution_count": 84,
   "metadata": {
    "collapsed": true
   },
   "outputs": [],
   "source": [
    "x_train_features=cv.fit_transform(x_train)"
   ]
  },
  {
   "cell_type": "code",
   "execution_count": 85,
   "metadata": {},
   "outputs": [
    {
     "data": {
      "text/plain": [
       "matrix([[0, 0, 0, ..., 0, 0, 0],\n",
       "        [0, 0, 0, ..., 0, 0, 0],\n",
       "        [0, 0, 0, ..., 0, 0, 0],\n",
       "        ...,\n",
       "        [0, 0, 0, ..., 1, 2, 0],\n",
       "        [0, 0, 0, ..., 0, 1, 0],\n",
       "        [0, 1, 0, ..., 0, 0, 0]], dtype=int64)"
      ]
     },
     "execution_count": 85,
     "metadata": {},
     "output_type": "execute_result"
    }
   ],
   "source": [
    "x_train_features.todense()"
   ]
  },
  {
   "cell_type": "code",
   "execution_count": 86,
   "metadata": {},
   "outputs": [
    {
     "data": {
      "text/plain": [
       "['000',\n",
       " '10',\n",
       " '100',\n",
       " '13',\n",
       " '15',\n",
       " '1995',\n",
       " '1996',\n",
       " '1997',\n",
       " '1998',\n",
       " '1999',\n",
       " '20',\n",
       " '30',\n",
       " '50',\n",
       " '60',\n",
       " '70',\n",
       " '80',\n",
       " '90',\n",
       " 'abandon',\n",
       " 'ability',\n",
       " 'able',\n",
       " 'absolutely',\n",
       " 'academy',\n",
       " 'accent',\n",
       " 'accept',\n",
       " 'accident',\n",
       " 'accomplish',\n",
       " 'achieve',\n",
       " 'achievement',\n",
       " 'across',\n",
       " 'act',\n",
       " 'action',\n",
       " 'action film',\n",
       " 'action movie',\n",
       " 'action scene',\n",
       " 'action sequence',\n",
       " 'actor',\n",
       " 'actress',\n",
       " 'actual',\n",
       " 'actually',\n",
       " 'ad',\n",
       " 'adam',\n",
       " 'adaptation',\n",
       " 'add',\n",
       " 'addition',\n",
       " 'admit',\n",
       " 'adult',\n",
       " 'adventure',\n",
       " 'affair',\n",
       " 'affleck',\n",
       " 'african',\n",
       " 'age',\n",
       " 'agent',\n",
       " 'ago',\n",
       " 'agree',\n",
       " 'agrees',\n",
       " 'ahead',\n",
       " 'aid',\n",
       " 'aim',\n",
       " 'air',\n",
       " 'al',\n",
       " 'ala',\n",
       " 'alan',\n",
       " 'alex',\n",
       " 'alien',\n",
       " 'alive',\n",
       " 'allen',\n",
       " 'allow',\n",
       " 'allows',\n",
       " 'almost',\n",
       " 'alone',\n",
       " 'along',\n",
       " 'along way',\n",
       " 'already',\n",
       " 'also',\n",
       " 'although',\n",
       " 'always',\n",
       " 'amaze',\n",
       " 'america',\n",
       " 'american',\n",
       " 'among',\n",
       " 'amount',\n",
       " 'amuse',\n",
       " 'amy',\n",
       " 'anderson',\n",
       " 'andrew',\n",
       " 'angel',\n",
       " 'angle',\n",
       " 'angry',\n",
       " 'animal',\n",
       " 'animate',\n",
       " 'animation',\n",
       " 'anna',\n",
       " 'anne',\n",
       " 'annie',\n",
       " 'annoy',\n",
       " 'another',\n",
       " 'answer',\n",
       " 'anthony',\n",
       " 'anti',\n",
       " 'anyone',\n",
       " 'anything',\n",
       " 'anyway',\n",
       " 'apart',\n",
       " 'apartment',\n",
       " 'ape',\n",
       " 'apparent',\n",
       " 'apparently',\n",
       " 'appeal',\n",
       " 'appear',\n",
       " 'appearance',\n",
       " 'appreciate',\n",
       " 'approach',\n",
       " 'appropriate',\n",
       " 'arm',\n",
       " 'armageddon',\n",
       " 'army',\n",
       " 'arnold',\n",
       " 'around',\n",
       " 'arrive',\n",
       " 'arrives',\n",
       " 'art',\n",
       " 'artist',\n",
       " 'as',\n",
       " 'aside',\n",
       " 'ask',\n",
       " 'asks',\n",
       " 'aspect',\n",
       " 'assistant',\n",
       " 'associate',\n",
       " 'assume',\n",
       " 'atmosphere',\n",
       " 'attack',\n",
       " 'attempt',\n",
       " 'attention',\n",
       " 'attitude',\n",
       " 'attractive',\n",
       " 'audience',\n",
       " 'austin',\n",
       " 'author',\n",
       " 'authority',\n",
       " 'available',\n",
       " 'average',\n",
       " 'avoid',\n",
       " 'award',\n",
       " 'away',\n",
       " 'awful',\n",
       " 'babe',\n",
       " 'baby',\n",
       " 'back',\n",
       " 'background',\n",
       " 'bacon',\n",
       " 'bad',\n",
       " 'bad film',\n",
       " 'bad guy',\n",
       " 'bad movie',\n",
       " 'bad thing',\n",
       " 'badly',\n",
       " 'balance',\n",
       " 'baldwin',\n",
       " 'ball',\n",
       " 'band',\n",
       " 'bank',\n",
       " 'bar',\n",
       " 'barely',\n",
       " 'barry',\n",
       " 'base',\n",
       " 'basic',\n",
       " 'basically',\n",
       " 'batman',\n",
       " 'batman robin',\n",
       " 'battle',\n",
       " 'beach',\n",
       " 'bear',\n",
       " 'beast',\n",
       " 'beat',\n",
       " 'beautiful',\n",
       " 'beauty',\n",
       " 'become',\n",
       " 'becomes',\n",
       " 'bed',\n",
       " 'begin',\n",
       " 'behind',\n",
       " 'believable',\n",
       " 'believe',\n",
       " 'ben',\n",
       " 'best',\n",
       " 'best film',\n",
       " 'best friend',\n",
       " 'bet',\n",
       " 'beyond',\n",
       " 'big',\n",
       " 'big screen',\n",
       " 'bill',\n",
       " 'billy',\n",
       " 'bit',\n",
       " 'bizarre',\n",
       " 'black',\n",
       " 'blade',\n",
       " 'blair',\n",
       " 'blair witch',\n",
       " 'blame',\n",
       " 'bland',\n",
       " 'block',\n",
       " 'blockbuster',\n",
       " 'blood',\n",
       " 'bloody',\n",
       " 'blow',\n",
       " 'blue',\n",
       " 'board',\n",
       " 'boat',\n",
       " 'bob',\n",
       " 'bobby',\n",
       " 'body',\n",
       " 'bomb',\n",
       " 'bond',\n",
       " 'bone',\n",
       " 'boogie',\n",
       " 'boogie night',\n",
       " 'book',\n",
       " 'bore',\n",
       " 'boring',\n",
       " 'born',\n",
       " 'bos',\n",
       " 'bother',\n",
       " 'bottom',\n",
       " 'bound',\n",
       " 'box',\n",
       " 'box office',\n",
       " 'boy',\n",
       " 'boyfriend',\n",
       " 'brad',\n",
       " 'brain',\n",
       " 'break',\n",
       " 'brian',\n",
       " 'bridge',\n",
       " 'brief',\n",
       " 'bright',\n",
       " 'brilliant',\n",
       " 'bring',\n",
       " 'brings',\n",
       " 'british',\n",
       " 'broken',\n",
       " 'brook',\n",
       " 'brother',\n",
       " 'brought',\n",
       " 'brown',\n",
       " 'bruce',\n",
       " 'bruce willis',\n",
       " 'buck',\n",
       " 'buddy',\n",
       " 'budget',\n",
       " 'bug',\n",
       " 'build',\n",
       " 'building',\n",
       " 'built',\n",
       " 'bunch',\n",
       " 'burn',\n",
       " 'burton',\n",
       " 'bus',\n",
       " 'business',\n",
       " 'buy',\n",
       " 'cage',\n",
       " 'call',\n",
       " 'cameo',\n",
       " 'camera',\n",
       " 'cameron',\n",
       " 'camp',\n",
       " 'campbell',\n",
       " 'cannot',\n",
       " 'captain',\n",
       " 'capture',\n",
       " 'car',\n",
       " 'care',\n",
       " 'career',\n",
       " 'carpenter',\n",
       " 'carrey',\n",
       " 'carry',\n",
       " 'carter',\n",
       " 'cartoon',\n",
       " 'case',\n",
       " 'cash',\n",
       " 'cast',\n",
       " 'catch',\n",
       " 'catherine',\n",
       " 'caught',\n",
       " 'cause',\n",
       " 'cell',\n",
       " 'center',\n",
       " 'central',\n",
       " 'century',\n",
       " 'certain',\n",
       " 'certainly',\n",
       " 'challenge',\n",
       " 'chan',\n",
       " 'chance',\n",
       " 'change',\n",
       " 'character',\n",
       " 'character film',\n",
       " 'characterization',\n",
       " 'charge',\n",
       " 'charles',\n",
       " 'charlie',\n",
       " 'charm',\n",
       " 'chase',\n",
       " 'cheap',\n",
       " 'check',\n",
       " 'cheesy',\n",
       " 'chemistry',\n",
       " 'chief',\n",
       " 'child',\n",
       " 'chinese',\n",
       " 'choice',\n",
       " 'chosen',\n",
       " 'chris',\n",
       " 'christmas',\n",
       " 'christopher',\n",
       " 'chuckle',\n",
       " 'church',\n",
       " 'cinema',\n",
       " 'cinematic',\n",
       " 'cinematographer',\n",
       " 'cinematography',\n",
       " 'city',\n",
       " 'claim',\n",
       " 'claire',\n",
       " 'class',\n",
       " 'classic',\n",
       " 'clean',\n",
       " 'clear',\n",
       " 'clearly',\n",
       " 'clever',\n",
       " 'clich',\n",
       " 'cliche',\n",
       " 'cliched',\n",
       " 'climax',\n",
       " 'clooney',\n",
       " 'close',\n",
       " 'club',\n",
       " 'clue',\n",
       " 'co',\n",
       " 'cold',\n",
       " 'college',\n",
       " 'color',\n",
       " 'combine',\n",
       " 'come',\n",
       " 'come across',\n",
       " 'come back',\n",
       " 'comedic',\n",
       " 'comedy',\n",
       " 'comic',\n",
       " 'comic book',\n",
       " 'comic relief',\n",
       " 'command',\n",
       " 'comment',\n",
       " 'commercial',\n",
       " 'commit',\n",
       " 'common',\n",
       " 'community',\n",
       " 'company',\n",
       " 'compare',\n",
       " 'comparison',\n",
       " 'compelling',\n",
       " 'complete',\n",
       " 'completely',\n",
       " 'complex',\n",
       " 'complicate',\n",
       " 'computer',\n",
       " 'computer generate',\n",
       " 'con',\n",
       " 'concept',\n",
       " 'concern',\n",
       " 'conclusion',\n",
       " 'condition',\n",
       " 'conflict',\n",
       " 'confuse',\n",
       " 'connection',\n",
       " 'consider',\n",
       " 'constant',\n",
       " 'constantly',\n",
       " 'contact',\n",
       " 'contain',\n",
       " 'contains',\n",
       " 'content',\n",
       " 'continue',\n",
       " 'contrast',\n",
       " 'contrive',\n",
       " 'control',\n",
       " 'conversation',\n",
       " 'convince',\n",
       " 'convincing',\n",
       " 'cool',\n",
       " 'cop',\n",
       " 'copy',\n",
       " 'corner',\n",
       " 'cost',\n",
       " 'costume',\n",
       " 'could',\n",
       " 'count',\n",
       " 'country',\n",
       " 'couple',\n",
       " 'course',\n",
       " 'court',\n",
       " 'cover',\n",
       " 'crack',\n",
       " 'craft',\n",
       " 'crap',\n",
       " 'crash',\n",
       " 'crazy',\n",
       " 'create',\n",
       " 'creates',\n",
       " 'creative',\n",
       " 'creature',\n",
       " 'credit',\n",
       " 'creepy',\n",
       " 'crew',\n",
       " 'crime',\n",
       " 'criminal',\n",
       " 'critic',\n",
       " 'cross',\n",
       " 'crowd',\n",
       " 'cruise',\n",
       " 'cry',\n",
       " 'crystal',\n",
       " 'cult',\n",
       " 'culture',\n",
       " 'current',\n",
       " 'cusack',\n",
       " 'cut',\n",
       " 'cute',\n",
       " 'dad',\n",
       " 'damme',\n",
       " 'damn',\n",
       " 'damon',\n",
       " 'dance',\n",
       " 'danger',\n",
       " 'dangerous',\n",
       " 'daniel',\n",
       " 'danny',\n",
       " 'dark',\n",
       " 'date',\n",
       " 'daughter',\n",
       " 'david',\n",
       " 'day',\n",
       " 'de',\n",
       " 'de niro',\n",
       " 'dead',\n",
       " 'deal',\n",
       " 'death',\n",
       " 'debut',\n",
       " 'decade',\n",
       " 'decent',\n",
       " 'decide',\n",
       " 'decides',\n",
       " 'decision',\n",
       " 'deep',\n",
       " 'definitely',\n",
       " 'deliver',\n",
       " 'delivers',\n",
       " 'demand',\n",
       " 'dennis',\n",
       " 'department',\n",
       " 'depth',\n",
       " 'describe',\n",
       " 'described',\n",
       " 'desert',\n",
       " 'deserve',\n",
       " 'deserves',\n",
       " 'design',\n",
       " 'desire',\n",
       " 'desperate',\n",
       " 'desperately',\n",
       " 'despite',\n",
       " 'destroy',\n",
       " 'detail',\n",
       " 'detective',\n",
       " 'determine',\n",
       " 'develop',\n",
       " 'developed',\n",
       " 'development',\n",
       " 'device',\n",
       " 'devil',\n",
       " 'dialogue',\n",
       " 'die',\n",
       " 'difference',\n",
       " 'different',\n",
       " 'difficult',\n",
       " 'dimensional',\n",
       " 'direct',\n",
       " 'direction',\n",
       " 'directly',\n",
       " 'director',\n",
       " 'disappoint',\n",
       " 'disappointment',\n",
       " 'disaster',\n",
       " 'discover',\n",
       " 'discovers',\n",
       " 'disney',\n",
       " 'display',\n",
       " 'distract',\n",
       " 'disturb',\n",
       " 'do',\n",
       " 'doctor',\n",
       " 'documentary',\n",
       " 'dog',\n",
       " 'dollar',\n",
       " 'doom',\n",
       " 'door',\n",
       " 'double',\n",
       " 'doubt',\n",
       " 'douglas',\n",
       " 'dozen',\n",
       " 'dr',\n",
       " 'drag',\n",
       " 'drama',\n",
       " 'dramatic',\n",
       " 'draw',\n",
       " 'drawn',\n",
       " 'dream',\n",
       " 'dress',\n",
       " 'drive',\n",
       " 'driven',\n",
       " 'driver',\n",
       " 'drop',\n",
       " 'drug',\n",
       " 'dude',\n",
       " 'due',\n",
       " 'dull',\n",
       " 'dumb',\n",
       " 'duvall',\n",
       " 'dvd',\n",
       " 'dy',\n",
       " 'earlier',\n",
       " 'early',\n",
       " 'earn',\n",
       " 'earth',\n",
       " 'easily',\n",
       " 'easy',\n",
       " 'eat',\n",
       " 'eccentric',\n",
       " 'ed',\n",
       " 'eddie',\n",
       " 'edge',\n",
       " 'edit',\n",
       " 'edward',\n",
       " 'effect',\n",
       " 'effective',\n",
       " 'effort',\n",
       " 'eight',\n",
       " 'either',\n",
       " 'elaborate',\n",
       " 'element',\n",
       " 'elizabeth',\n",
       " 'else',\n",
       " 'embarrass',\n",
       " 'emotion',\n",
       " 'emotional',\n",
       " 'emotionally',\n",
       " 'empty',\n",
       " 'encounter',\n",
       " 'end',\n",
       " 'end film',\n",
       " 'enemy',\n",
       " 'energy',\n",
       " 'engage',\n",
       " 'english',\n",
       " 'enjoy',\n",
       " 'enjoyable',\n",
       " 'enough',\n",
       " 'enter',\n",
       " 'entertain',\n",
       " 'entertainment',\n",
       " 'entire',\n",
       " 'entirely',\n",
       " 'epic',\n",
       " 'episode',\n",
       " 'equally',\n",
       " 'era',\n",
       " 'escape',\n",
       " 'especially',\n",
       " 'establish',\n",
       " 'etc',\n",
       " 'even',\n",
       " 'even bad',\n",
       " 'even though',\n",
       " 'event',\n",
       " 'eventually',\n",
       " 'ever',\n",
       " 'ever see',\n",
       " 'every',\n",
       " 'every scene',\n",
       " 'everyone',\n",
       " 'everyone else',\n",
       " 'everything',\n",
       " 'evidence',\n",
       " 'evil',\n",
       " 'ex',\n",
       " 'exactly',\n",
       " 'example',\n",
       " 'excellent',\n",
       " 'except',\n",
       " 'exception',\n",
       " 'exchange',\n",
       " 'excite',\n",
       " 'excuse',\n",
       " 'exercise',\n",
       " 'exist',\n",
       " 'expect',\n",
       " 'expectation',\n",
       " 'experience',\n",
       " 'experiment',\n",
       " 'explain',\n",
       " 'explanation',\n",
       " 'explore',\n",
       " 'explosion',\n",
       " 'express',\n",
       " 'expression',\n",
       " 'extend',\n",
       " 'extra',\n",
       " 'extreme',\n",
       " 'extremely',\n",
       " 'eye',\n",
       " 'face',\n",
       " 'fact',\n",
       " 'fail',\n",
       " 'fails',\n",
       " 'failure',\n",
       " 'fair',\n",
       " 'fairly',\n",
       " 'faith',\n",
       " 'fake',\n",
       " 'fall',\n",
       " 'fall love',\n",
       " 'fame',\n",
       " 'familiar',\n",
       " 'family',\n",
       " 'famous',\n",
       " 'fan',\n",
       " 'fantastic',\n",
       " 'fantasy',\n",
       " 'far',\n",
       " 'fare',\n",
       " 'fascinate',\n",
       " 'fashion',\n",
       " 'fast',\n",
       " 'fat',\n",
       " 'fate',\n",
       " 'father',\n",
       " 'fault',\n",
       " 'favor',\n",
       " 'favorite',\n",
       " 'fbi',\n",
       " 'fear',\n",
       " 'feature',\n",
       " 'feature film',\n",
       " 'feel',\n",
       " 'feel like',\n",
       " 'feeling',\n",
       " 'fellow',\n",
       " 'felt',\n",
       " 'female',\n",
       " 'fi',\n",
       " 'fiction',\n",
       " 'field',\n",
       " 'fifteen',\n",
       " 'fight',\n",
       " 'fight scene',\n",
       " 'figure',\n",
       " 'file',\n",
       " 'fill',\n",
       " 'film',\n",
       " 'film also',\n",
       " 'film could',\n",
       " 'film end',\n",
       " 'film even',\n",
       " 'film ever',\n",
       " 'film get',\n",
       " 'film go',\n",
       " 'film like',\n",
       " 'film make',\n",
       " 'film one',\n",
       " 'film seem',\n",
       " 'film take',\n",
       " 'film would',\n",
       " 'filmmaker',\n",
       " 'filmmaking',\n",
       " 'final',\n",
       " 'finale',\n",
       " 'finally',\n",
       " 'find',\n",
       " 'fine',\n",
       " 'finish',\n",
       " 'fire',\n",
       " 'first',\n",
       " 'first film',\n",
       " 'first movie',\n",
       " 'first time',\n",
       " 'fish',\n",
       " 'fit',\n",
       " 'five',\n",
       " 'flash',\n",
       " 'flashback',\n",
       " 'flat',\n",
       " 'flaw',\n",
       " 'flesh',\n",
       " 'flick',\n",
       " 'floor',\n",
       " 'flow',\n",
       " 'fly',\n",
       " 'focus',\n",
       " 'folk',\n",
       " 'follow',\n",
       " 'food',\n",
       " 'fool',\n",
       " 'foot',\n",
       " 'footage',\n",
       " 'football',\n",
       " 'force',\n",
       " 'ford',\n",
       " 'forever',\n",
       " 'forget',\n",
       " 'forgotten',\n",
       " 'form',\n",
       " 'former',\n",
       " 'formula',\n",
       " 'forward',\n",
       " 'foster',\n",
       " 'found',\n",
       " 'four',\n",
       " 'fox',\n",
       " 'frame',\n",
       " 'france',\n",
       " 'frank',\n",
       " 'free',\n",
       " 'freedom',\n",
       " 'freeman',\n",
       " 'freeze',\n",
       " 'french',\n",
       " 'frequently',\n",
       " 'fresh',\n",
       " 'friend',\n",
       " 'friendship',\n",
       " 'frighten',\n",
       " 'front',\n",
       " 'full',\n",
       " 'fully',\n",
       " 'fun',\n",
       " 'fun watch',\n",
       " 'funniest',\n",
       " 'funny',\n",
       " 'future',\n",
       " 'gag',\n",
       " 'gain',\n",
       " 'game',\n",
       " 'gang',\n",
       " 'gangster',\n",
       " 'gary',\n",
       " 'gay',\n",
       " 'general',\n",
       " 'generally',\n",
       " 'generate',\n",
       " 'generation',\n",
       " 'genius',\n",
       " 'genre',\n",
       " 'genuine',\n",
       " 'genuinely',\n",
       " 'george',\n",
       " 'get',\n",
       " 'ghost',\n",
       " 'giant',\n",
       " 'gibson',\n",
       " 'gift',\n",
       " 'girl',\n",
       " 'girlfriend',\n",
       " 'give',\n",
       " 'go',\n",
       " 'go see',\n",
       " 'go wrong',\n",
       " 'goal',\n",
       " 'god',\n",
       " 'godzilla',\n",
       " 'gold',\n",
       " 'good',\n",
       " 'good film',\n",
       " 'good movie',\n",
       " 'good performance',\n",
       " 'good time',\n",
       " 'goofy',\n",
       " 'gore',\n",
       " 'government',\n",
       " 'grace',\n",
       " 'grand',\n",
       " 'grant',\n",
       " 'graphic',\n",
       " 'great',\n",
       " 'great deal',\n",
       " 'green',\n",
       " 'gross',\n",
       " 'ground',\n",
       " 'group',\n",
       " 'grow',\n",
       " 'grows',\n",
       " 'guard',\n",
       " 'guess',\n",
       " 'guilty',\n",
       " 'gun',\n",
       " 'guy',\n",
       " 'hair',\n",
       " 'half',\n",
       " 'half hour',\n",
       " 'hall',\n",
       " 'halloween',\n",
       " 'hand',\n",
       " 'handle',\n",
       " 'hang',\n",
       " 'hank',\n",
       " 'happen',\n",
       " 'happens',\n",
       " 'happy',\n",
       " 'hard',\n",
       " 'hardly',\n",
       " 'harry',\n",
       " 'hat',\n",
       " 'hate',\n",
       " 'haunt',\n",
       " 'head',\n",
       " 'hear',\n",
       " 'heard',\n",
       " 'heart',\n",
       " 'hearted',\n",
       " 'heaven',\n",
       " 'heavily',\n",
       " 'heavy',\n",
       " 'helen',\n",
       " 'hell',\n",
       " 'help',\n",
       " 'henry',\n",
       " 'hero',\n",
       " 'hidden',\n",
       " 'hide',\n",
       " 'high',\n",
       " 'high school',\n",
       " 'highlight',\n",
       " 'highly',\n",
       " 'hilarious',\n",
       " 'hill',\n",
       " 'hint',\n",
       " 'hip',\n",
       " 'hire',\n",
       " 'history',\n",
       " 'hit',\n",
       " 'hold',\n",
       " 'hole',\n",
       " 'hollow',\n",
       " 'hollywood',\n",
       " 'home',\n",
       " 'honest',\n",
       " 'hong',\n",
       " 'hong kong',\n",
       " 'hook',\n",
       " 'hop',\n",
       " 'hope',\n",
       " 'hopkins',\n",
       " 'horrible',\n",
       " 'horror',\n",
       " 'horror film',\n",
       " 'horse',\n",
       " 'hospital',\n",
       " 'hot',\n",
       " 'hotel',\n",
       " 'hour',\n",
       " 'house',\n",
       " 'however',\n",
       " 'huge',\n",
       " 'human',\n",
       " 'humanity',\n",
       " 'humor',\n",
       " 'humorous',\n",
       " 'humour',\n",
       " 'hundred',\n",
       " 'hunt',\n",
       " 'hunter',\n",
       " 'hurt',\n",
       " 'husband',\n",
       " 'ice',\n",
       " 'idea',\n",
       " 'identity',\n",
       " 'ii',\n",
       " 'ill',\n",
       " 'image',\n",
       " 'imagination',\n",
       " 'imagine',\n",
       " 'immediately',\n",
       " 'impact',\n",
       " 'important',\n",
       " 'impossible',\n",
       " 'impression',\n",
       " 'impressive',\n",
       " 'include',\n",
       " 'incredible',\n",
       " 'incredibly',\n",
       " 'indeed',\n",
       " 'individual',\n",
       " 'industry',\n",
       " 'inevitable',\n",
       " 'information',\n",
       " 'innocent',\n",
       " 'inside',\n",
       " 'insight',\n",
       " 'inspire',\n",
       " 'instance',\n",
       " 'instead',\n",
       " 'instinct',\n",
       " 'insult',\n",
       " 'intelligence',\n",
       " 'intelligent',\n",
       " 'intend',\n",
       " 'intense',\n",
       " 'intention',\n",
       " 'interaction',\n",
       " 'interest',\n",
       " 'interested',\n",
       " 'interview',\n",
       " 'intrigue',\n",
       " 'introduce',\n",
       " 'investigate',\n",
       " 'involve',\n",
       " 'involves',\n",
       " 'island',\n",
       " 'issue',\n",
       " 'jack',\n",
       " 'jackal',\n",
       " 'jackie',\n",
       " 'jackie brown',\n",
       " 'jackie chan',\n",
       " 'jackson',\n",
       " 'jail',\n",
       " 'james',\n",
       " 'jane',\n",
       " 'japanese',\n",
       " 'jason',\n",
       " 'jay',\n",
       " 'jean',\n",
       " 'jedi',\n",
       " 'jeff',\n",
       " 'jennifer',\n",
       " 'jerry',\n",
       " 'jim',\n",
       " 'jimmy',\n",
       " 'joan',\n",
       " 'job',\n",
       " 'joe',\n",
       " 'joel',\n",
       " 'john',\n",
       " 'johnny',\n",
       " 'join',\n",
       " 'joke',\n",
       " 'jon',\n",
       " 'jonathan',\n",
       " 'jones',\n",
       " 'journey',\n",
       " 'joy',\n",
       " 'jr',\n",
       " 'judge',\n",
       " 'julia',\n",
       " 'julie',\n",
       " 'jump',\n",
       " 'justice',\n",
       " 'kate',\n",
       " 'keaton',\n",
       " 'keep',\n",
       " 'kelly',\n",
       " 'kept',\n",
       " 'kevin',\n",
       " 'key',\n",
       " 'kick',\n",
       " 'kid',\n",
       " 'kidnap',\n",
       " 'kill',\n",
       " 'killer',\n",
       " 'kind',\n",
       " 'king',\n",
       " 'kiss',\n",
       " 'knew',\n",
       " 'knock',\n",
       " 'know',\n",
       " 'knowledge',\n",
       " 'kong',\n",
       " 'la',\n",
       " 'la vega',\n",
       " 'lack',\n",
       " 'lady',\n",
       " 'lame',\n",
       " 'land',\n",
       " 'language',\n",
       " 'large',\n",
       " 'largely',\n",
       " 'larry',\n",
       " 'last',\n",
       " 'last summer',\n",
       " 'last year',\n",
       " ...]"
      ]
     },
     "execution_count": 86,
     "metadata": {},
     "output_type": "execute_result"
    }
   ],
   "source": [
    "cv.get_feature_names()"
   ]
  },
  {
   "cell_type": "code",
   "execution_count": 87,
   "metadata": {
    "collapsed": true
   },
   "outputs": [],
   "source": [
    "x_test_features=cv.transform(x_test)"
   ]
  },
  {
   "cell_type": "code",
   "execution_count": 88,
   "metadata": {},
   "outputs": [
    {
     "data": {
      "text/plain": [
       "(500, 2000)"
      ]
     },
     "execution_count": 88,
     "metadata": {},
     "output_type": "execute_result"
    }
   ],
   "source": [
    "x_test_features.shape"
   ]
  },
  {
   "cell_type": "code",
   "execution_count": 89,
   "metadata": {
    "collapsed": true
   },
   "outputs": [],
   "source": [
    "svc=SVC()"
   ]
  },
  {
   "cell_type": "code",
   "execution_count": 90,
   "metadata": {},
   "outputs": [
    {
     "data": {
      "text/plain": [
       "SVC(C=1.0, cache_size=200, class_weight=None, coef0=0.0,\n",
       "  decision_function_shape='ovr', degree=3, gamma='auto', kernel='rbf',\n",
       "  max_iter=-1, probability=False, random_state=None, shrinking=True,\n",
       "  tol=0.001, verbose=False)"
      ]
     },
     "execution_count": 90,
     "metadata": {},
     "output_type": "execute_result"
    }
   ],
   "source": [
    "svc.fit(x_train_features,y_train)"
   ]
  },
  {
   "cell_type": "code",
   "execution_count": 91,
   "metadata": {},
   "outputs": [
    {
     "data": {
      "text/plain": [
       "0.818"
      ]
     },
     "execution_count": 91,
     "metadata": {},
     "output_type": "execute_result"
    }
   ],
   "source": [
    "svc.score(x_test_features,y_test)"
   ]
  }
 ],
 "metadata": {
  "kernelspec": {
   "display_name": "Python 3",
   "language": "python",
   "name": "python3"
  },
  "language_info": {
   "codemirror_mode": {
    "name": "ipython",
    "version": 3
   },
   "file_extension": ".py",
   "mimetype": "text/x-python",
   "name": "python",
   "nbconvert_exporter": "python",
   "pygments_lexer": "ipython3",
   "version": "3.6.3"
  }
 },
 "nbformat": 4,
 "nbformat_minor": 2
}
