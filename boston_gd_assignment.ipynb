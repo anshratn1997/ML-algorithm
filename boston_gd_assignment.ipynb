{
 "cells": [
  {
   "cell_type": "code",
   "execution_count": 1,
   "metadata": {},
   "outputs": [
    {
     "name": "stdout",
     "output_type": "stream",
     "text": [
      "(379, 13)\n",
      "(506, 13)\n",
      "(379, 105)\n",
      "(127, 105)\n"
     ]
    }
   ],
   "source": [
    "import numpy as np\n",
    "from sklearn import preprocessing\n",
    "data=np.loadtxt(\"C:/Users/ansh41/Desktop/mypython/codingNinja/datasets/training_boston_x_y_train.csv\",delimiter=\",\")\n",
    "test=np.loadtxt(\"C:/Users/ansh41/Desktop/mypython/codingNinja/datasets/test_boston_x_test.csv\",delimiter=\",\")\n",
    "min_max_scaler_object = preprocessing.MinMaxScaler(feature_range=(0,1))\n",
    "x=data[:,0:13]\n",
    "y=data[:,13]\n",
    "print(x.shape)\n",
    "x=np.append(x,test,axis=0)\n",
    "print(x.shape)\n",
    "for i in range(13):\n",
    "    for j in range(i,13):\n",
    "        z=x[:,i]*x[:,j]\n",
    "        z=z.reshape(506,1)\n",
    "        x=np.append(x,z,axis=1)\n",
    "z=np.array([1 for i in range(len(x))])\n",
    "z=z.reshape(len(x),1)\n",
    "x=min_max_scaler_object.fit_transform(x)\n",
    "x=np.append(x,z,axis=1)\n",
    "test=x[379:,:]\n",
    "x=x[:379,:]\n",
    "print(x.shape)\n",
    "print(test.shape)\n",
    "# y=min_max_scaler_object.fit_transform(y)"
   ]
  },
  {
   "cell_type": "code",
   "execution_count": 2,
   "metadata": {
    "collapsed": true
   },
   "outputs": [],
   "source": [
    "def step_gd(points,lr,j,m):\n",
    "    M=len(points)\n",
    "    slope_m=0\n",
    "    for i in range(M):\n",
    "        xx=points[i,0:105]\n",
    "        yy=y[i]\n",
    "        temp=0\n",
    "        for k in range(105):\n",
    "            temp+=xx[k]*m[k]\n",
    "        temp=yy-temp\n",
    "        slope_m+=(-2/M)*(temp*xx[j])\n",
    "    new_m=m[j]-lr*slope_m\n",
    "    return new_m"
   ]
  },
  {
   "cell_type": "code",
   "execution_count": 3,
   "metadata": {
    "collapsed": true
   },
   "outputs": [],
   "source": [
    "def gd(points,lr,itr):\n",
    "    M=len(points)\n",
    "    N=105\n",
    "    m=[0 for i in range(N)]\n",
    "    for i in range(itr):\n",
    "        for j in range(N):\n",
    "            m[j]=step_gd(points,lr,j,m)\n",
    "#         print(t_cost(points,m))\n",
    "    return m"
   ]
  },
  {
   "cell_type": "code",
   "execution_count": 4,
   "metadata": {
    "collapsed": true
   },
   "outputs": [],
   "source": [
    "def t_cost(points,m):\n",
    "    M=len(points)\n",
    "    N=14\n",
    "    cost=0\n",
    "    for i in range(M):\n",
    "        temp=0\n",
    "        xx=points[i,0:105]\n",
    "        yy=y[i]\n",
    "        for j in range(N):\n",
    "            temp+=xx[j]*m[j]\n",
    "        temp=yy-temp\n",
    "        cost+=(1/M)*(temp**2)\n",
    "    return cost"
   ]
  },
  {
   "cell_type": "code",
   "execution_count": 5,
   "metadata": {
    "collapsed": true
   },
   "outputs": [],
   "source": [
    "def predict(m,x_test):\n",
    "    y_pred=list()\n",
    "    for i in range(len(x_test)):\n",
    "        yy=0\n",
    "        for j in range(105):\n",
    "            yy+=m[j]*x_test[i,j]\n",
    "        y_pred.append(yy)\n",
    "    return np.array(y_pred)"
   ]
  },
  {
   "cell_type": "code",
   "execution_count": 6,
   "metadata": {
    "collapsed": true
   },
   "outputs": [],
   "source": [
    "def score(y_pred,y_test):\n",
    "    u=((y_test-y_pred)**2).sum()\n",
    "    v=((y_test-y_test.mean())**2).sum()\n",
    "    return 1-u/v"
   ]
  },
  {
   "cell_type": "code",
   "execution_count": 15,
   "metadata": {
    "collapsed": true
   },
   "outputs": [],
   "source": [
    "learning_rate=1\n",
    "itr=200\n",
    "m=gd(x,learning_rate,itr)\n",
    "# print(m)\n",
    "m=np.array(m)\n",
    "y_pred=predict(m,test)"
   ]
  },
  {
   "cell_type": "code",
   "execution_count": 16,
   "metadata": {},
   "outputs": [
    {
     "name": "stdout",
     "output_type": "stream",
     "text": [
      "[ 17.23326669  27.67303492  18.30909326  22.83823682  22.04918041\n",
      "  10.69380332  29.07690877  24.47865414  17.4487254   22.46289818\n",
      "  24.55131143  17.12426022  18.89143321  19.07426126  44.90274988\n",
      "  19.49782785  22.36788356  25.48876431  17.43012425  30.20673602\n",
      "  20.89565813  23.39100289  36.79960194  32.12728976  32.966719    19.0257668\n",
      "  17.88118137  28.99844513  22.27806172  32.94758075  17.39580966\n",
      "  26.07255608  20.91755188  23.14489069  10.68582482  26.53492716\n",
      "  24.11888517  19.11828237  21.1214122    9.39891196  15.50495414\n",
      "  27.60936002  24.5477008   19.64466394  19.42686701  10.25183868\n",
      "  46.51777863  24.17510212  35.01710781  12.88390669  17.05791426\n",
      "  47.45232226  13.42721997  20.92476397  16.56239039  21.65590909\n",
      "  17.96227296  23.92345399  12.96819165  15.05887804   9.8955047\n",
      "  27.8851171   21.91186154  25.38970627  16.97081919  14.35607983\n",
      "  35.04542491  14.46714813  21.82805769  22.11693854  26.5747454\n",
      "  25.53278258  18.26097137   9.20986586  37.27055884  24.87151228\n",
      "  28.70744913  27.36142465  12.79284769  31.61621262  18.01898885\n",
      "  21.00936718  20.00622247  19.14478855  15.5876818   30.78615306\n",
      "  27.76745268   8.69122996  21.45143596  18.40406464  19.05459289\n",
      "  19.2100937   16.7865171   11.10822101  19.22803755  28.9778262\n",
      "  47.44146363  19.56276721  34.95127202  22.86634644  24.61718181\n",
      "  20.11540116  21.69340233  32.23943977  12.67566957  23.58835877\n",
      "  18.58003254  41.77532276  21.19642355  15.02714802  24.51300181\n",
      "   7.71416209  15.11331873  20.80032839  42.77058456  10.39377617\n",
      "  21.265757    25.50633213  19.45457378  20.75900163  15.59681456\n",
      "  38.01857894  19.76797665  21.32364042  21.65943543  19.00735688\n",
      "  13.80466583]\n",
      "94.5054583513\n"
     ]
    }
   ],
   "source": [
    "# y_pred=preprocessing.scale(y_pred)\n",
    "print(y_pred)\n",
    "print(t_cost(x,m)) \n",
    "np.savetxt('ff.csv',y_pred)"
   ]
  },
  {
   "cell_type": "code",
   "execution_count": 9,
   "metadata": {},
   "outputs": [
    {
     "data": {
      "text/plain": [
       "105"
      ]
     },
     "execution_count": 9,
     "metadata": {},
     "output_type": "execute_result"
    }
   ],
   "source": [
    "x.shape[1]"
   ]
  },
  {
   "cell_type": "code",
   "execution_count": null,
   "metadata": {
    "collapsed": true
   },
   "outputs": [],
   "source": []
  }
 ],
 "metadata": {
  "kernelspec": {
   "display_name": "Python 3",
   "language": "python",
   "name": "python3"
  },
  "language_info": {
   "codemirror_mode": {
    "name": "ipython",
    "version": 3
   },
   "file_extension": ".py",
   "mimetype": "text/x-python",
   "name": "python",
   "nbconvert_exporter": "python",
   "pygments_lexer": "ipython3",
   "version": "3.6.3"
  }
 },
 "nbformat": 4,
 "nbformat_minor": 2
}
