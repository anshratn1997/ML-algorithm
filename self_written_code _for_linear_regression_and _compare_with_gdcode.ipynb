{
 "cells": [
  {
   "cell_type": "code",
   "execution_count": 2,
   "metadata": {
    "collapsed": true
   },
   "outputs": [],
   "source": [
    "import numpy as np"
   ]
  },
  {
   "cell_type": "code",
   "execution_count": 97,
   "metadata": {
    "collapsed": true
   },
   "outputs": [],
   "source": [
    "def predict(m,c,x_test):\n",
    "#     y_pred=[(m*x_test[i]-c )for i in range(len(x_test))]\n",
    "    return m*x_test+c"
   ]
  },
  {
   "cell_type": "code",
   "execution_count": 98,
   "metadata": {},
   "outputs": [],
   "source": [
    "def cost(y_test,y_pred):\n",
    "    return ((y_test-y_pred)**2).mean()"
   ]
  },
  {
   "cell_type": "code",
   "execution_count": 99,
   "metadata": {
    "collapsed": true
   },
   "outputs": [],
   "source": [
    "def score(y_pred,y_test):\n",
    "    u=((y_test-y_pred)**2).sum()\n",
    "    v=((y_test-y_test.mean())**2).sum()\n",
    "    return 1-u/v"
   ]
  },
  {
   "cell_type": "code",
   "execution_count": 100,
   "metadata": {
    "collapsed": true
   },
   "outputs": [],
   "source": [
    "def fit(x_train,y_train):\n",
    "    num=(x_train*y_train).mean()-x_train.mean()*y_train.mean()\n",
    "    den=(x_train**2).mean()-x_train.mean()**2\n",
    "    m=num/den\n",
    "    c=y_train.mean()-m*(x_train.mean())\n",
    "    return m,c"
   ]
  },
  {
   "cell_type": "code",
   "execution_count": 146,
   "metadata": {
    "collapsed": true
   },
   "outputs": [],
   "source": [
    "def run():\n",
    "    data=np.loadtxt('C:/Users/ansh41/Desktop/mypython/codingNinja/datasets/data.csv',delimiter=\",\")\n",
    "    x=data[:,0]\n",
    "    y=data[:,1]\n",
    "    from sklearn import model_selection\n",
    "    x_train,x_test,y_train,y_test=model_selection.train_test_split(x,y,random_state=2)\n",
    "    m,c=fit(x_train,y_train)\n",
    "    y_pred=predict(m,c,x_test)\n",
    "    print(m,c)\n",
    "    return score(y_pred,y_test),cost(y_test,y_pred)\n",
    "    "
   ]
  },
  {
   "cell_type": "code",
   "execution_count": 148,
   "metadata": {},
   "outputs": [
    {
     "name": "stdout",
     "output_type": "stream",
     "text": [
      "1.39438653859 5.03195413292\n",
      "(0.73165584678346185, 117.81338685366093)\n"
     ]
    }
   ],
   "source": [
    "print(run())"
   ]
  },
  {
   "cell_type": "code",
   "execution_count": 103,
   "metadata": {
    "collapsed": true
   },
   "outputs": [],
   "source": [
    "def step_g(x_tr,y_tr,lr,m,c):\n",
    "    M=len(x_tr)\n",
    "    slope_m=0\n",
    "    slope_c=0\n",
    "    for i in range(M):\n",
    "        x=x_tr[i]\n",
    "        y=y_tr[i]\n",
    "        slope_m+=(-2/M)*(y-m*x-c)*x\n",
    "        slope_c+=(-2/M)*(y-m*x-c)\n",
    "    new_m=m-lr*slope_m\n",
    "    new_c=c-lr*slope_c\n",
    "    return new_m,new_c"
   ]
  },
  {
   "cell_type": "code",
   "execution_count": 104,
   "metadata": {
    "collapsed": true
   },
   "outputs": [],
   "source": [
    "def gd(x_tr,y_tr,lr,itr):\n",
    "    m=0\n",
    "    c=0\n",
    "    for i in range(itr):\n",
    "        m,c=step_g(x_tr,y_tr,lr,m,c)\n",
    "#         print(t_cost(x_tr,y_tr,m,c))\n",
    "#         print(m,c)\n",
    "    return m,c"
   ]
  },
  {
   "cell_type": "code",
   "execution_count": 105,
   "metadata": {
    "collapsed": true
   },
   "outputs": [],
   "source": [
    "def t_cost(x_tr,y_tr,m,c):\n",
    "    cost=0\n",
    "    M=len(x_tr)\n",
    "    for i in range(M):\n",
    "        x=x_tr[i]\n",
    "        y=y_tr[i]\n",
    "        cost+=(1/M)*((y-m*x-c)**2)\n",
    "    return cost\n",
    "    "
   ]
  },
  {
   "cell_type": "code",
   "execution_count": 149,
   "metadata": {
    "collapsed": true
   },
   "outputs": [],
   "source": [
    "def run1():\n",
    "    data=np.loadtxt('C:/Users/ansh41/Desktop/mypython/codingNinja/datasets/data.csv',delimiter=\",\")\n",
    "    x=data[:,0]\n",
    "    y=data[:,1]\n",
    "    from sklearn import model_selection\n",
    "    x_tr,x_test,y_tr,y_test=model_selection.train_test_split(x,y,random_state=2)\n",
    "    learning_rate=0.00001\n",
    "    itr=500\n",
    "    m,c=gd(x_tr,y_tr,learning_rate,itr)\n",
    "    print(m,c)\n",
    "    y_pred=predict(m,c,x_test)\n",
    "    print(score(y_pred,y_test),cost(y_test,y_pred))"
   ]
  },
  {
   "cell_type": "code",
   "execution_count": 151,
   "metadata": {},
   "outputs": [
    {
     "name": "stdout",
     "output_type": "stream",
     "text": [
      "1.49340653711 0.0313651419823\n",
      "0.720375007642 122.766108386\n"
     ]
    }
   ],
   "source": [
    "run1()"
   ]
  }
 ],
 "metadata": {
  "kernelspec": {
   "display_name": "Python 3",
   "language": "python",
   "name": "python3"
  },
  "language_info": {
   "codemirror_mode": {
    "name": "ipython",
    "version": 3
   },
   "file_extension": ".py",
   "mimetype": "text/x-python",
   "name": "python",
   "nbconvert_exporter": "python",
   "pygments_lexer": "ipython3",
   "version": "3.6.3"
  }
 },
 "nbformat": 4,
 "nbformat_minor": 2
}
