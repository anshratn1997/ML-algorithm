{
 "cells": [
  {
   "cell_type": "code",
   "execution_count": 12,
   "metadata": {},
   "outputs": [
    {
     "name": "stdout",
     "output_type": "stream",
     "text": [
      "(9568, 4)\n",
      "(7176, 21) (2392, 21)\n"
     ]
    }
   ],
   "source": [
    "import numpy as np\n",
    "from sklearn import preprocessing\n",
    "data=np.loadtxt(\"C:/Users/ansh41/Desktop/mypython/codingNinja/datasets/training_ccpp_x_y_train.csv\",delimiter=\",\")\n",
    "test=np.loadtxt(\"C:/Users/ansh41/Desktop/mypython/codingNinja/datasets/test_ccpp_x_test.csv\",delimiter=\",\")\n",
    "min_max_scaler_object = preprocessing.MinMaxScaler(feature_range=(0,1))\n",
    "x=data[:,0:4]\n",
    "y=data[:,4]\n",
    "x=np.append(x,test,axis=0)\n",
    "print(x.shape)\n",
    "for i in range(4):\n",
    "    for j in range(4):\n",
    "        z=x[:,i]*x[:,j]\n",
    "        z=z.reshape(9568,1)\n",
    "        x=np.append(x,z,axis=1)\n",
    "z=np.array([1 for i in range(len(x))])\n",
    "z=z.reshape(len(x),1)\n",
    "x=min_max_scaler_object.fit_transform(x)\n",
    "x=np.append(x,z,axis=1)\n",
    "test=x[7176:,:]\n",
    "x=x[:7176,:]\n",
    "print(x.shape,test.shape)\n"
   ]
  },
  {
   "cell_type": "code",
   "execution_count": 13,
   "metadata": {
    "collapsed": true
   },
   "outputs": [],
   "source": [
    "def step_gd(points,lr,j,m):\n",
    "    M=len(points)\n",
    "    slope_m=0\n",
    "    for i in range(M):\n",
    "        xx=points[i,0:21]\n",
    "        yy=y[i]\n",
    "        temp=0\n",
    "        for k in range(21):\n",
    "            temp+=xx[k]*m[k]\n",
    "        temp=yy-temp\n",
    "        slope_m+=(-2/M)*(temp*xx[j])\n",
    "    new_m=m[j]-lr*slope_m\n",
    "    return new_m"
   ]
  },
  {
   "cell_type": "code",
   "execution_count": 14,
   "metadata": {
    "collapsed": true
   },
   "outputs": [],
   "source": [
    "def gd(points,lr,itr):\n",
    "    M=len(points)\n",
    "    N=21\n",
    "    m=[0 for i in range(N)]\n",
    "    for i in range(itr):\n",
    "        for j in range(N):\n",
    "            m[j]=step_gd(points,lr,j,m)\n",
    "#         print(t_cost(points,m))\n",
    "    return m"
   ]
  },
  {
   "cell_type": "code",
   "execution_count": 15,
   "metadata": {
    "collapsed": true
   },
   "outputs": [],
   "source": [
    "def t_cost(points,m):\n",
    "    M=len(points)\n",
    "    N=21\n",
    "    cost=0\n",
    "    for i in range(M):\n",
    "        temp=0\n",
    "        xx=points[i,0:21]\n",
    "        yy=y[i]\n",
    "        for j in range(N):\n",
    "            temp+=xx[j]*m[j]\n",
    "        temp=yy-temp\n",
    "        cost+=(1/M)*(temp**2)\n",
    "    return cost"
   ]
  },
  {
   "cell_type": "code",
   "execution_count": 16,
   "metadata": {
    "collapsed": true
   },
   "outputs": [],
   "source": [
    "def predict(m,x_test):\n",
    "    y_pred=list()\n",
    "    for i in range(len(x_test)):\n",
    "        yy=0\n",
    "        for j in range(21):\n",
    "            yy+=m[j]*x_test[i,j]\n",
    "        y_pred.append(yy)\n",
    "    return np.array(y_pred)"
   ]
  },
  {
   "cell_type": "code",
   "execution_count": 17,
   "metadata": {},
   "outputs": [
    {
     "name": "stdout",
     "output_type": "stream",
     "text": [
      "[82.531817239011346, 25.787644927828637, 6.0205034213179864, 65.859516401622045, -52.939661765881958, -43.632986691951466, 14.62688968843521, -50.13341080429938, -8.0123653495355747, 6.4965019107521744, 23.546690938402918, -36.729887239650935, 37.038993544100222, 3.5828727095178845, -9.6963862409319148, 47.824886788360963, -66.620741541878218, -32.450557344299618, 65.779726239869348, -65.055778160335308, 402.97510308662152]\n"
     ]
    }
   ],
   "source": [
    "learning_rate=1\n",
    "itr=210\n",
    "m=gd(x,learning_rate,itr)\n",
    "print(m)\n",
    "m=np.array(m)\n",
    "y_pred=predict(m,test)"
   ]
  },
  {
   "cell_type": "code",
   "execution_count": 20,
   "metadata": {},
   "outputs": [
    {
     "name": "stdout",
     "output_type": "stream",
     "text": [
      "(2392, 21)\n",
      "38.570341217\n"
     ]
    }
   ],
   "source": [
    "print(test.shape)\n",
    "np.savetxt('ff.csv',y_pred)\n",
    "print(t_cost(x,m))"
   ]
  }
 ],
 "metadata": {
  "kernelspec": {
   "display_name": "Python 3",
   "language": "python",
   "name": "python3"
  },
  "language_info": {
   "codemirror_mode": {
    "name": "ipython",
    "version": 3
   },
   "file_extension": ".py",
   "mimetype": "text/x-python",
   "name": "python",
   "nbconvert_exporter": "python",
   "pygments_lexer": "ipython3",
   "version": "3.6.3"
  }
 },
 "nbformat": 4,
 "nbformat_minor": 2
}
